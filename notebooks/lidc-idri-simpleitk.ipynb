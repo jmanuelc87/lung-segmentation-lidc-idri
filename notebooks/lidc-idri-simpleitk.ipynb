{
 "cells": [
  {
   "cell_type": "markdown",
   "id": "643723c5",
   "metadata": {},
   "source": [
    "# LIDC-IDRI SimpleITK\n",
    "\n",
    "For working with dicom files we now use SimpleITK library which is suited for working with medical formats."
   ]
  },
  {
   "cell_type": "code",
   "execution_count": 1,
   "id": "60a06748",
   "metadata": {},
   "outputs": [],
   "source": [
    "import numpy as np\n",
    "import SimpleITK as sitk\n",
    "import matplotlib.pyplot as plt"
   ]
  },
  {
   "cell_type": "code",
   "execution_count": null,
   "id": "73bc17ef",
   "metadata": {},
   "outputs": [],
   "source": [
    "path = \"../LIDC-IDRI/LIDC-IDRI-0001/01-01-2000-NA-NA-30178/3000566.000000-NA-03192\""
   ]
  },
  {
   "cell_type": "markdown",
   "id": "7d4efdc0",
   "metadata": {},
   "source": [
    "Creation of a Image Series Reader that will allow us to work with a full volume."
   ]
  },
  {
   "cell_type": "code",
   "execution_count": 3,
   "id": "230825ed",
   "metadata": {},
   "outputs": [],
   "source": [
    "reader = sitk.ImageSeriesReader()\n",
    "dicom_names = reader.GetGDCMSeriesFileNames(path)\n",
    "reader.SetFileNames(dicom_names)\n",
    "image = reader.Execute()"
   ]
  },
  {
   "cell_type": "code",
   "execution_count": 4,
   "id": "2e199c07",
   "metadata": {},
   "outputs": [
    {
     "data": {
      "text/plain": [
       "((512, 512, 133), (0.703125, 0.703125, 2.5))"
      ]
     },
     "execution_count": 4,
     "metadata": {},
     "output_type": "execute_result"
    }
   ],
   "source": [
    "original_size = image.GetSize()\n",
    "original_spacing = image.GetSpacing()\n",
    "\n",
    "original_size, original_spacing"
   ]
  },
  {
   "cell_type": "markdown",
   "id": "46f6d8a3",
   "metadata": {},
   "source": [
    "From a specific slice of the volume and rescaling to 512 px height, the width is calculated to maintain proportions"
   ]
  },
  {
   "cell_type": "code",
   "execution_count": 5,
   "id": "9c92b544",
   "metadata": {},
   "outputs": [
    {
     "data": {
      "text/plain": [
       "([512, 511, 1], [0.703125, 0.703125, 2.5])"
      ]
     },
     "execution_count": 5,
     "metadata": {},
     "output_type": "execute_result"
    }
   ],
   "source": [
    "new_spacing = [\n",
    "    (original_size[0] - 1) * original_spacing[0] / (512 - 1),\n",
    "] * 2 + [original_spacing[2]]\n",
    "new_size = [512, int((original_size[1] - 1) * original_spacing[1] / new_spacing[1]), 1]\n",
    "\n",
    "new_size, new_spacing"
   ]
  },
  {
   "cell_type": "markdown",
   "id": "366b0e13",
   "metadata": {},
   "source": [
    "Resample the image using a linear transformation and save it to a PNG file"
   ]
  },
  {
   "cell_type": "code",
   "execution_count": 6,
   "id": "58b96441",
   "metadata": {},
   "outputs": [],
   "source": [
    "image = sitk.Resample(\n",
    "    image1=image,\n",
    "    size=new_size,  # type: ignore\n",
    "    transform=sitk.Transform(),\n",
    "    interpolator=sitk.sitkLinear,\n",
    "    outputOrigin=image.GetOrigin(),\n",
    "    outputSpacing=new_spacing,\n",
    "    outputDirection=image.GetDirection(),\n",
    "    defaultPixelValue=0,\n",
    "    outputPixelType=image.GetPixelID(),\n",
    ")\n",
    "\n",
    "if image.GetNumberOfComponentsPerPixel() == 1:\n",
    "    image = sitk.RescaleIntensity(image, 0, 255)\n",
    "    image = sitk.Cast(image, sitk.sitkUInt8)\n",
    "    sitk.WriteImage(image, \"image.png\")"
   ]
  }
 ],
 "metadata": {
  "kernelspec": {
   "display_name": "lung-segmentation-lidc-idri",
   "language": "python",
   "name": "python3"
  },
  "language_info": {
   "codemirror_mode": {
    "name": "ipython",
    "version": 3
   },
   "file_extension": ".py",
   "mimetype": "text/x-python",
   "name": "python",
   "nbconvert_exporter": "python",
   "pygments_lexer": "ipython3",
   "version": "3.10.18"
  }
 },
 "nbformat": 4,
 "nbformat_minor": 5
}
