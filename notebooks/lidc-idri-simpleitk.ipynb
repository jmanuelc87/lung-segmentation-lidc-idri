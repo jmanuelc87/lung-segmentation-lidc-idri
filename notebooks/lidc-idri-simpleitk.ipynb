{
 "cells": [
  {
   "cell_type": "code",
   "execution_count": 1,
   "id": "60a06748",
   "metadata": {},
   "outputs": [],
   "source": [
    "import numpy as np\n",
    "import SimpleITK as sitk\n",
    "import matplotlib.pyplot as plt"
   ]
  },
  {
   "cell_type": "code",
   "execution_count": null,
   "id": "73bc17ef",
   "metadata": {},
   "outputs": [],
   "source": [
    "path = \"../manifest-1600709154662/LIDC-IDRI/LIDC-IDRI-0001/01-01-2000-NA-NA-30178/3000566.000000-NA-03192\""
   ]
  },
  {
   "cell_type": "code",
   "execution_count": 3,
   "id": "230825ed",
   "metadata": {},
   "outputs": [],
   "source": [
    "reader = sitk.ImageSeriesReader()\n",
    "dicom_names = reader.GetGDCMSeriesFileNames(path)\n",
    "reader.SetFileNames(dicom_names)\n",
    "image = reader.Execute()"
   ]
  },
  {
   "cell_type": "code",
   "execution_count": null,
   "id": "58b96441",
   "metadata": {},
   "outputs": [],
   "source": [
    "original_size = image.GetSize()\n",
    "original_spacing = image.GetSpacing()\n",
    "\n",
    "new_spacing = [(original_size[0] - 1) * original_spacing[0] / (512 - 1)] * 3\n",
    "new_size = [512, int((original_size[1] - 1) * original_spacing[1] / new_spacing[1]), 1]\n",
    "\n",
    "image = sitk.Resample(\n",
    "    image1=image,\n",
    "    size=new_size,  # type: ignore\n",
    "    transform=sitk.Transform(),\n",
    "    interpolator=sitk.sitkLinear,\n",
    "    outputOrigin=image.GetOrigin(),\n",
    "    outputSpacing=new_spacing,\n",
    "    outputDirection=image.GetDirection(),\n",
    "    defaultPixelValue=0,\n",
    "    outputPixelType=image.GetPixelID(),\n",
    ")\n",
    "\n",
    "if image.GetNumberOfComponentsPerPixel() == 1:\n",
    "    image = sitk.RescaleIntensity(image, 0, 255)\n",
    "    image = sitk.Cast(image, sitk.sitkUInt8)\n",
    "    sitk.WriteImage(image, \"image.png\")"
   ]
  }
 ],
 "metadata": {
  "kernelspec": {
   "display_name": "lung-segmentation-lidc-idri",
   "language": "python",
   "name": "python3"
  },
  "language_info": {
   "codemirror_mode": {
    "name": "ipython",
    "version": 3
   },
   "file_extension": ".py",
   "mimetype": "text/x-python",
   "name": "python",
   "nbconvert_exporter": "python",
   "pygments_lexer": "ipython3",
   "version": "3.10.18"
  }
 },
 "nbformat": 4,
 "nbformat_minor": 5
}
