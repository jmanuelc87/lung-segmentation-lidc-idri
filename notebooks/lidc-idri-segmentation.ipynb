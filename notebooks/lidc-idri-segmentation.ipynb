{
 "cells": [
  {
   "cell_type": "markdown",
   "id": "87f58860",
   "metadata": {},
   "source": [
    "# LIDC-IDRI Lung Segmentation"
   ]
  },
  {
   "cell_type": "code",
   "execution_count": null,
   "id": "3dd3f002",
   "metadata": {},
   "outputs": [],
   "source": []
  },
  {
   "cell_type": "code",
   "execution_count": null,
   "id": "c1ab585f",
   "metadata": {},
   "outputs": [],
   "source": [
    "import torch\n",
    "import numpy as np"
   ]
  }
 ],
 "metadata": {
  "kernelspec": {
   "display_name": "lung-segmentation-lidc-idri",
   "language": "python",
   "name": "python3"
  },
  "language_info": {
   "codemirror_mode": {
    "name": "ipython",
    "version": 3
   },
   "file_extension": ".py",
   "mimetype": "text/x-python",
   "name": "python",
   "nbconvert_exporter": "python",
   "pygments_lexer": "ipython3",
   "version": "3.10.18"
  }
 },
 "nbformat": 4,
 "nbformat_minor": 5
}
